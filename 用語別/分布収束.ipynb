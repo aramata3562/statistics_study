{
 "cells": [
  {
   "cell_type": "markdown",
   "metadata": {},
   "source": [
    "## 分布収束\n",
    "\n",
    "分布収束（Convergence in Distribution）とは、確率論における確率変数の収束概念の一つであり、ある確率変数列が他の確率変数に近づく様子を記述します。これは主に確率変数列の分布が、ある特定の確率分布に収束することを意味します。\n",
    "\n",
    "### 定義\n",
    "確率変数列 $\\{X_n\\}$ が確率変数 $X$ に分布収束するとは、任意の実数 $x$ に対して次が成り立つときに言います。\n",
    "\n",
    "$$\n",
    "\\lim_{n \\to \\infty} F_{X_n}(x) = F_X(x)\n",
    "$$\n",
    "\n",
    "ここで、$F_{X_n}(x)$ および $F_X(x)$ は、それぞれ $X_n$ および $X$ の累積分布関数（CDF）です。この収束は、$X_n$ の分布が $X$ の分布に近づくことを意味します。\n",
    "\n",
    "### 具体例\n",
    "以下に、標準正規分布に収束する例を示します。中心極限定理（Central Limit Theorem）により、独立同分布の確率変数の平均は、元の分布がどのようなものであっても、サンプルサイズが大きくなるにつれて標準正規分布に従うことが示されています。\n",
    "\n",
    "Pythonでのシミュレーションコードを以下に示します。\n",
    "\n",
    "\n",
    "\n",
    "このコードは、母集団からサンプルを取り、その平均を標準化したものが標準正規分布に収束する様子を示しています。\n",
    "\n",
    "### 結論\n",
    "分布収束は、確率変数列がある特定の分布に近づくことを示す概念で、中心極限定理のような強力な結果を含みます。この概念は、確率論や統計学において非常に重要であり、特に大規模なデータ解析において役立ちます。"
   ]
  },
  {
   "cell_type": "code",
   "execution_count": null,
   "metadata": {},
   "outputs": [],
   "source": [
    "import numpy as np\n",
    "import matplotlib.pyplot as plt\n",
    "\n",
    "# 母集団のサイズ\n",
    "n = 1000\n",
    "\n",
    "# サンプルサイズ\n",
    "sample_size = 100\n",
    "\n",
    "# 元の分布（例: 一様分布）\n",
    "population = np.random.uniform(0, 1, n)\n",
    "\n",
    "# 標本平均の計算\n",
    "sample_means = [np.mean(np.random.choice(population, sample_size)) for _ in range(n)]\n",
    "\n",
    "# 標準化\n",
    "standardized_sample_means = (sample_means - np.mean(population)) / (np.std(population) / np.sqrt(sample_size))\n",
    "\n",
    "# プロット\n",
    "plt.figure(figsize=(10, 6))\n",
    "plt.hist(standardized_sample_means, bins=30, density=True, alpha=0.6, color='g', label='Sample Means')\n",
    "x = np.linspace(-4, 4, 1000)\n",
    "plt.plot(x, (1/np.sqrt(2 * np.pi)) * np.exp(-x**2 / 2), label='Standard Normal Distribution')\n",
    "plt.xlabel('Value')\n",
    "plt.ylabel('Density')\n",
    "plt.legend()\n",
    "plt.title('Convergence in Distribution Example')\n",
    "plt.show()"
   ]
  },
  {
   "cell_type": "code",
   "execution_count": null,
   "metadata": {},
   "outputs": [],
   "source": []
  }
 ],
 "metadata": {
  "language_info": {
   "name": "python"
  }
 },
 "nbformat": 4,
 "nbformat_minor": 2
}
