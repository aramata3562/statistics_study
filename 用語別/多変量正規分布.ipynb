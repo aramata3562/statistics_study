{
 "cells": [
  {
   "cell_type": "markdown",
   "metadata": {},
   "source": [
    "## 2変量正規分布\n",
    "\n",
    "2変量正規分布（または2次元正規分布）は、2つの確率変数が同時に正規分布に従う場合の分布です。これは多変量正規分布の特別なケースであり、共分散行列と平均ベクトルによって特徴付けられます。\n",
    "\n",
    "### 定義\n",
    "\n",
    "2変量正規分布は以下のように定義されます。確率変数 $X$ と $Y$ が2変量正規分布に従う場合、これを $(X, Y) \\sim N(\\mu, \\Sigma)$ と表します。ここで、$\\mu$ は平均ベクトル、$\\Sigma$ は共分散行列です。\n",
    "\n",
    "- 平均ベクトル $\\mu = \\begin{pmatrix} \\mu_X \\\\ \\mu_Y \\end{pmatrix}$\n",
    "- 共分散行列 $\\Sigma = \\begin{pmatrix} \\sigma_X^2 & \\rho \\sigma_X \\sigma_Y \\\\ \\rho \\sigma_X \\sigma_Y & \\sigma_Y^2 \\end{pmatrix}$\n",
    "\n",
    "ここで、$\\mu_X$ と $\\mu_Y$ はそれぞれ $X$ と $Y$ の平均、$\\sigma_X^2$ と $\\sigma_Y^2$ はそれぞれ $X$ と $Y$ の分散、$\\rho$ は $X$ と $Y$ の相関係数です。\n",
    "\n",
    "### 確率密度関数\n",
    "\n",
    "2変量正規分布の確率密度関数は次のように表されます：\n",
    "\n",
    "$$\n",
    "f_{X,Y}(x, y) = \\frac{1}{2 \\pi \\sigma_X \\sigma_Y \\sqrt{1 - \\rho^2}} \\exp \\left( -\\frac{1}{2(1 - \\rho^2)} \\left[ \\frac{(x - \\mu_X)^2}{\\sigma_X^2} + \\frac{(y - \\mu_Y)^2}{\\sigma_Y^2} - \\frac{2\\rho(x - \\mu_X)(y - \\mu_Y)}{\\sigma_X \\sigma_Y} \\right] \\right)\n",
    "$$\n",
    "\n",
    "### 例\n",
    "\n",
    "2変量正規分布の例を考えます。例えば、$X$ と $Y$ が以下のパラメータを持つとします：\n",
    "\n",
    "- 平均 $\\mu = \\begin{pmatrix} 0 \\\\ 0 \\end{pmatrix}$\n",
    "- 共分散行列 $\\Sigma = \\begin{pmatrix} 1 & 0.5 \\\\ 0.5 & 1 \\end{pmatrix}$\n",
    "\n",
    "この場合の確率密度関数をPythonでプロットしてみましょう。\n",
    "\n",
    "\n",
    "### 条件付き分布\n",
    "\n",
    "2変量正規分布において、$X$ の値が分かっているときの $Y$ の条件付き分布もまた正規分布となります。この条件付き分布の期待値と分散は以下のようになります：\n",
    "\n",
    "- 条件付き期待値：\n",
    "$$ E[Y | X = x] = \\mu_Y + \\rho \\frac{\\sigma_Y}{\\sigma_X} (x - \\mu_X) $$\n",
    "\n",
    "- 条件付き分散：\n",
    "$$ Var(Y | X = x) = \\sigma_Y^2 (1 - \\rho^2) $$\n",
    "\n",
    "これにより、条件付き分布も簡単に扱うことができます。\n",
    "\n",
    "2変量正規分布は多くの応用があり、特に金融や自然科学などの分野で重要な役割を果たします。以上が2変量正規分布の基本的な説明です。"
   ]
  },
  {
   "cell_type": "code",
   "execution_count": 1,
   "metadata": {},
   "outputs": [
    {
     "name": "stderr",
     "output_type": "stream",
     "text": [
      "/Users/taketoaramaki/study/statistics_study/.venv/lib/python3.12/site-packages/IPython/core/pylabtools.py:170: UserWarning: Glyph 22793 (\\N{CJK UNIFIED IDEOGRAPH-5909}) missing from font(s) DejaVu Sans.\n",
      "  fig.canvas.print_figure(bytes_io, **kw)\n",
      "/Users/taketoaramaki/study/statistics_study/.venv/lib/python3.12/site-packages/IPython/core/pylabtools.py:170: UserWarning: Glyph 37327 (\\N{CJK UNIFIED IDEOGRAPH-91CF}) missing from font(s) DejaVu Sans.\n",
      "  fig.canvas.print_figure(bytes_io, **kw)\n",
      "/Users/taketoaramaki/study/statistics_study/.venv/lib/python3.12/site-packages/IPython/core/pylabtools.py:170: UserWarning: Glyph 27491 (\\N{CJK UNIFIED IDEOGRAPH-6B63}) missing from font(s) DejaVu Sans.\n",
      "  fig.canvas.print_figure(bytes_io, **kw)\n",
      "/Users/taketoaramaki/study/statistics_study/.venv/lib/python3.12/site-packages/IPython/core/pylabtools.py:170: UserWarning: Glyph 35215 (\\N{CJK UNIFIED IDEOGRAPH-898F}) missing from font(s) DejaVu Sans.\n",
      "  fig.canvas.print_figure(bytes_io, **kw)\n",
      "/Users/taketoaramaki/study/statistics_study/.venv/lib/python3.12/site-packages/IPython/core/pylabtools.py:170: UserWarning: Glyph 20998 (\\N{CJK UNIFIED IDEOGRAPH-5206}) missing from font(s) DejaVu Sans.\n",
      "  fig.canvas.print_figure(bytes_io, **kw)\n",
      "/Users/taketoaramaki/study/statistics_study/.venv/lib/python3.12/site-packages/IPython/core/pylabtools.py:170: UserWarning: Glyph 24067 (\\N{CJK UNIFIED IDEOGRAPH-5E03}) missing from font(s) DejaVu Sans.\n",
      "  fig.canvas.print_figure(bytes_io, **kw)\n",
      "/Users/taketoaramaki/study/statistics_study/.venv/lib/python3.12/site-packages/IPython/core/pylabtools.py:170: UserWarning: Glyph 12398 (\\N{HIRAGANA LETTER NO}) missing from font(s) DejaVu Sans.\n",
      "  fig.canvas.print_figure(bytes_io, **kw)\n",
      "/Users/taketoaramaki/study/statistics_study/.venv/lib/python3.12/site-packages/IPython/core/pylabtools.py:170: UserWarning: Glyph 30906 (\\N{CJK UNIFIED IDEOGRAPH-78BA}) missing from font(s) DejaVu Sans.\n",
      "  fig.canvas.print_figure(bytes_io, **kw)\n",
      "/Users/taketoaramaki/study/statistics_study/.venv/lib/python3.12/site-packages/IPython/core/pylabtools.py:170: UserWarning: Glyph 29575 (\\N{CJK UNIFIED IDEOGRAPH-7387}) missing from font(s) DejaVu Sans.\n",
      "  fig.canvas.print_figure(bytes_io, **kw)\n",
      "/Users/taketoaramaki/study/statistics_study/.venv/lib/python3.12/site-packages/IPython/core/pylabtools.py:170: UserWarning: Glyph 23494 (\\N{CJK UNIFIED IDEOGRAPH-5BC6}) missing from font(s) DejaVu Sans.\n",
      "  fig.canvas.print_figure(bytes_io, **kw)\n",
      "/Users/taketoaramaki/study/statistics_study/.venv/lib/python3.12/site-packages/IPython/core/pylabtools.py:170: UserWarning: Glyph 24230 (\\N{CJK UNIFIED IDEOGRAPH-5EA6}) missing from font(s) DejaVu Sans.\n",
      "  fig.canvas.print_figure(bytes_io, **kw)\n",
      "/Users/taketoaramaki/study/statistics_study/.venv/lib/python3.12/site-packages/IPython/core/pylabtools.py:170: UserWarning: Glyph 38306 (\\N{CJK UNIFIED IDEOGRAPH-95A2}) missing from font(s) DejaVu Sans.\n",
      "  fig.canvas.print_figure(bytes_io, **kw)\n",
      "/Users/taketoaramaki/study/statistics_study/.venv/lib/python3.12/site-packages/IPython/core/pylabtools.py:170: UserWarning: Glyph 25968 (\\N{CJK UNIFIED IDEOGRAPH-6570}) missing from font(s) DejaVu Sans.\n",
      "  fig.canvas.print_figure(bytes_io, **kw)\n"
     ]
    },
    {
     "data": {
      "image/png": "[encoded data removed]",
      "text/plain": [
       "<Figure size 640x480 with 2 Axes>"
      ]
     },
     "metadata": {},
     "output_type": "display_data"
    }
   ],
   "source": [
    "\n",
    "import numpy as np\n",
    "import matplotlib.pyplot as plt\n",
    "from scipy.stats import multivariate_normal\n",
    "\n",
    "# 平均と共分散行列の定義\n",
    "mu = np.array([0, 0])\n",
    "sigma = np.array([[1, 0.5], [0.5, 1]])\n",
    "\n",
    "# 2変量正規分布の定義\n",
    "rv = multivariate_normal(mean=mu, cov=sigma)\n",
    "\n",
    "# グリッド作成\n",
    "x, y = np.mgrid[-3:3:.01, -3:3:.01]\n",
    "pos = np.dstack((x, y))\n",
    "\n",
    "# 確率密度関数の計算\n",
    "z = rv.pdf(pos)\n",
    "\n",
    "# プロット\n",
    "fig, ax = plt.subplots()\n",
    "contour = ax.contourf(x, y, z, cmap='viridis')\n",
    "fig.colorbar(contour)\n",
    "plt.title('2変量正規分布の確率密度関数')\n",
    "plt.xlabel('X')\n",
    "plt.ylabel('Y')\n",
    "plt.show()"
   ]
  },
  {
   "cell_type": "code",
   "execution_count": null,
   "metadata": {},
   "outputs": [],
   "source": []
  }
 ],
 "metadata": {
  "kernelspec": {
   "display_name": ".venv",
   "language": "python",
   "name": "python3"
  },
  "language_info": {
   "codemirror_mode": {
    "name": "ipython",
    "version": 3
   },
   "file_extension": ".py",
   "mimetype": "text/x-python",
   "name": "python",
   "nbconvert_exporter": "python",
   "pygments_lexer": "ipython3",
   "version": "3.12.3"
  }
 },
 "nbformat": 4,
 "nbformat_minor": 2
}
