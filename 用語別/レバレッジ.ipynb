{
 "cells": [
  {
   "cell_type": "markdown",
   "metadata": {},
   "source": [
    "## レバレッジ（Leverage）について\n",
    "\n",
    "レバレッジ（Leverage）とは、回帰分析において各観測値の影響力を評価する指標の一つです。具体的には、ある観測値が回帰モデルのフィッティングにどれほど影響を与えるかを示します。レバレッジが高い観測値は、回帰直線や平面に大きな影響を与えるため、これらのデータポイントに特に注意を払う必要があります。\n",
    "\n",
    "### レバレッジの計算\n",
    "\n",
    "レバレッジは、ハットマトリックス（$H$）の対角要素として計算されます。ハットマトリックスは以下のように定義されます。\n",
    "\n",
    "$$\n",
    "H = X(X^TX)^{-1}X^T\n",
    "$$\n",
    "\n",
    "ここで、$X$ はデザイン行列（独立変数の行列）です。レバレッジ値はハットマトリックスの対角成分 $h_{ii}$ として与えられます。\n",
    "\n",
    "### レバレッジの解釈\n",
    "\n",
    "- レバレッジ値 $h_{ii}$ は常に 0 から 1 の間にあります。\n",
    "- レバレッジ値の平均は $\\frac{p+1}{n}$ であり、ここで $p$ は独立変数の数、$n$ は観測数です。\n",
    "- レバレッジ値がこの平均値よりも大きい場合、その観測値は高いレバレッジを持つと考えられます。\n",
    "\n",
    "### レバレッジの用途\n",
    "\n",
    "1. **外れ値の検出**:\n",
    "    レバレッジ値が高い観測値は、モデルに強い影響を与える可能性があるため、外れ値や異常値として検討されることがあります。\n",
    "\n",
    "2. **影響力の評価**:\n",
    "    レバレッジ値は、観測値が回帰モデルにどれだけ影響を与えるかを示すため、モデルの安定性や信頼性の評価に使用されます。\n",
    "\n",
    "### Pythonコード例\n",
    "\n",
    "以下に、レバレッジ値を計算し、プロットするPythonコードの例を示します。\n",
    "\n",
    "\n",
    "\n",
    "このコードでは、以下のステップでレバレッジ値を計算し、プロットしています。\n",
    "\n",
    "1. データセットを作成し、回帰モデルをフィッティングします。\n",
    "2. ハットマトリックスの対角成分（レバレッジ値）を計算します。\n",
    "3. レバレッジ値をプロットし、高いレバレッジ値を持つ観測値を視覚的に確認します。"
   ]
  },
  {
   "cell_type": "code",
   "execution_count": null,
   "metadata": {},
   "outputs": [],
   "source": [
    "import numpy as np\n",
    "import matplotlib.pyplot as plt\n",
    "import statsmodels.api as sm\n",
    "from sklearn.datasets import make_regression\n",
    "\n",
    "# データセットの作成\n",
    "X, y = make_regression(n_samples=100, n_features=1, noise=10, random_state=42)\n",
    "X = sm.add_constant(X)  # 切片項を追加\n",
    "\n",
    "# 回帰モデルのフィッティング\n",
    "model = sm.OLS(y, X).fit()\n",
    "\n",
    "# レバレッジ値の計算\n",
    "influence = model.get_influence()\n",
    "leverage = influence.hat_matrix_diag\n",
    "\n",
    "# レバレッジ値のプロット\n",
    "plt.stem(np.arange(len(leverage)), leverage, markerfmt=\",\")\n",
    "plt.axhline(y=2*(X.shape[1])/len(X), color='r', linestyle='--')  # 一般的な閾値\n",
    "plt.xlabel('Observation Index')\n",
    "plt.ylabel('Leverage')\n",
    "plt.title('Leverage Values')\n",
    "plt.show()"
   ]
  }
 ],
 "metadata": {
  "language_info": {
   "name": "python"
  }
 },
 "nbformat": 4,
 "nbformat_minor": 2
}
