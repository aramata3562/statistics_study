{
 "cells": [
  {
   "cell_type": "markdown",
   "metadata": {},
   "source": [
    "## 多項分布について\n",
    "\n",
    "### 多項分布とは\n",
    "\n",
    "多項分布（Multinomial Distribution）は、ある試行を複数回行い、それぞれの試行で複数のカテゴリのいずれかに分類されるとき、各カテゴリに分類される回数を表す確率分布です。これは、二項分布の一般化と見ることができます。\n",
    "\n",
    "### 定義\n",
    "\n",
    "多項分布は以下のように定義されます：\n",
    "\n",
    "- $n$：試行回数\n",
    "- $k$：カテゴリ数\n",
    "- $p_i$：カテゴリ$i$に分類される確率（$i = 1, 2, \\ldots, k$）\n",
    "- $X_i$：カテゴリ$i$に分類される回数（$i = 1, 2, \\ldots, k$）\n",
    "\n",
    "これらのパラメータに対して、多項分布の確率質量関数（PMF）は以下のようになります：\n",
    "\n",
    "$$\n",
    "P(X_1 = x_1, X_2 = x_2, \\ldots, X_k = x_k) = \\frac{n!}{x_1! x_2! \\cdots x_k!} p_1^{x_1} p_2^{x_2} \\cdots p_k^{x_k}\n",
    "$$\n",
    "\n",
    "ここで、$x_1 + x_2 + \\cdots + x_k = n$ および $p_1 + p_2 + \\cdots + p_k = 1$ である必要があります。\n",
    "\n",
    "### 期待値と分散\n",
    "\n",
    "多項分布の各カテゴリ$i$についての期待値と分散は以下のようになります：\n",
    "\n",
    "- 期待値：\n",
    "  $$\n",
    "  E(X_i) = np_i\n",
    "  $$\n",
    "\n",
    "- 分散：\n",
    "  $$\n",
    "  \\text{Var}(X_i) = np_i(1 - p_i)\n",
    "  $$\n",
    "\n",
    "- 共分散（カテゴリ$i$と$j$の間）：\n",
    "  $$\n",
    "  \\text{Cov}(X_i, X_j) = -np_i p_j \\quad (i \\neq j)\n",
    "  $$\n",
    "\n",
    "### 例\n",
    "\n",
    "サイコロを10回振って、それぞれの面が出る回数をモデル化します。サイコロの各面が出る確率は$1/6$です。\n",
    "\n",
    "#### パラメータ\n",
    "- $n = 10$：試行回数\n",
    "- $k = 6$：カテゴリ数（サイコロの面の数）\n",
    "- $p_1 = p_2 = p_3 = p_4 = p_5 = p_6 = 1/6$：各面が出る確率\n",
    "\n",
    "#### 期待値と分散の計算\n",
    "\n",
    "1. 期待値：\n",
    "   $$\n",
    "   E(X_i) = np_i = 10 \\times \\frac{1}{6} = \\frac{10}{6} \\approx 1.67\n",
    "   $$\n",
    "\n",
    "2. 分散：\n",
    "   $$\n",
    "   \\text{Var}(X_i) = np_i(1 - p_i) = 10 \\times \\frac{1}{6} \\times \\left(1 - \\frac{1}{6}\\right) = 10 \\times \\frac{1}{6} \\times \\frac{5}{6} = \\frac{50}{36} \\approx 1.39\n",
    "   $$\n",
    "\n",
    "3. 共分散：\n",
    "   $$\n",
    "   \\text{Cov}(X_i, X_j) = -np_i p_j = -10 \\times \\frac{1}{6} \\times \\frac{1}{6} = -\\frac{10}{36} \\approx -0.28 \\quad (i \\neq j)\n",
    "   $$\n",
    "\n",
    "### Pythonでの計算\n",
    "\n",
    "Pythonで多項分布の確率を計算するためには、`numpy`ライブラリを使用します。以下はその例です：\n"
   ]
  },
  {
   "cell_type": "code",
   "execution_count": 1,
   "metadata": {},
   "outputs": [
    {
     "name": "stdout",
     "output_type": "stream",
     "text": [
      "サンプル: [3 5 0 1 1 0]\n",
      "確率: 0.0025\n"
     ]
    }
   ],
   "source": [
    "import numpy as np\n",
    "\n",
    "# パラメータの定義\n",
    "n = 10  # 試行回数\n",
    "p = [1/6] * 6  # 各カテゴリの確率\n",
    "\n",
    "# 多項分布に従うランダムサンプルを生成\n",
    "sample = np.random.multinomial(n, p)\n",
    "print(f\"サンプル: {sample}\")\n",
    "\n",
    "# 多項分布の確率を計算\n",
    "from scipy.stats import multinomial\n",
    "\n",
    "# カテゴリごとの回数\n",
    "x = [2, 1, 2, 1, 3, 1]\n",
    "\n",
    "# 確率を計算\n",
    "prob = multinomial.pmf(x, n, p)\n",
    "print(f\"確率: {prob:.4f}\")"
   ]
  },
  {
   "cell_type": "code",
   "execution_count": null,
   "metadata": {},
   "outputs": [],
   "source": []
  }
 ],
 "metadata": {
  "kernelspec": {
   "display_name": ".venv",
   "language": "python",
   "name": "python3"
  },
  "language_info": {
   "codemirror_mode": {
    "name": "ipython",
    "version": 3
   },
   "file_extension": ".py",
   "mimetype": "text/x-python",
   "name": "python",
   "nbconvert_exporter": "python",
   "pygments_lexer": "ipython3",
   "version": "3.12.3"
  }
 },
 "nbformat": 4,
 "nbformat_minor": 2
}
