{
 "cells": [
  {
   "cell_type": "markdown",
   "metadata": {},
   "source": [
    "## エッカート・ヤング分解について\n",
    "\n",
    "エッカート・ヤング分解（Eckart-Young Decomposition）は、特異値分解（SVD, Singular Value Decomposition）に関連する重要な定理であり、行列の低ランク近似に関する理論的な基礎を提供します。この分解は、与えられた行列に最も近い特定のランクの行列を求める方法です。\n",
    "\n",
    "### エッカート・ヤングの定理\n",
    "エッカート・ヤングの定理は、次のように述べられます：\n",
    "\n",
    "与えられた行列 $A \\in \\mathbb{R}^{m \\times n}$ とその特異値分解 $A = U \\Sigma V^T$ があるとき、ランク $k$ の行列 $A_k$ は、次のように表されます：\n",
    "\n",
    "$$\n",
    "A_k = U_k \\Sigma_k V_k^T\n",
    "$$\n",
    "\n",
    "ここで、\n",
    "- $U_k$ は $U$ の最初の $k$ 列からなる行列\n",
    "- $\\Sigma_k$ は $\\Sigma$ の最初の $k$ 個の特異値を対角に持つ対角行列\n",
    "- $V_k$ は $V$ の最初の $k$ 列からなる行列\n",
    "\n",
    "エッカート・ヤングの定理によれば、この行列 $A_k$ は、$A$ に対するフロベニウスノルムやスペクトルノルムの意味で最良のランク $k$ の近似となります。\n",
    "\n",
    "### フロベニウスノルムとスペクトルノルム\n",
    "エッカート・ヤングの定理では、次のノルムを使用します：\n",
    "- **フロベニウスノルム**（Frobenius norm）：行列の全要素の二乗和の平方根です。\n",
    "- **スペクトルノルム**（Spectral norm）：行列の最大特異値です。\n",
    "\n",
    "### Pythonによる実装例\n",
    "以下に、Pythonを用いてエッカート・ヤング分解を行う例を示します。`numpy` と `scipy` ライブラリを使用します。\n",
    "\n",
    "\n",
    "このコードでは、以下の手順でエッカート・ヤング分解を実行しています：\n",
    "1. サンプル行列 $A$ を定義します。\n",
    "2. 行列 $A$ の特異値分解を実行し、$U$、$\\Sigma$、$V^T$ を取得します。\n",
    "3. 希望するランク $k$ に対する $U_k$、$\\Sigma_k$、$Vt_k$ を作成します。\n",
    "4. 低ランク近似行列 $A_k$ を計算します。\n",
    "\n",
    "このようにして、エッカート・ヤング分解を用いることで、与えられた行列の最良のランク $k$ の近似を得ることができます。"
   ]
  },
  {
   "cell_type": "code",
   "execution_count": null,
   "metadata": {},
   "outputs": [],
   "source": [
    "import numpy as np\n",
    "from scipy.linalg import svd\n",
    "\n",
    "# サンプル行列\n",
    "A = np.array([[1, 2, 3], [4, 5, 6], [7, 8, 9]])\n",
    "\n",
    "# 特異値分解\n",
    "U, Sigma, Vt = svd(A)\n",
    "\n",
    "# ランク2の近似行列を作成\n",
    "k = 2\n",
    "U_k = U[:, :k]\n",
    "Sigma_k = np.diag(Sigma[:k])\n",
    "Vt_k = Vt[:k, :]\n",
    "\n",
    "A_k = U_k @ Sigma_k @ Vt_k\n",
    "\n",
    "print(\"Original Matrix A:\\n\", A)\n",
    "print(\"\\nRank-2 Approximation A_k:\\n\", A_k)"
   ]
  }
 ],
 "metadata": {
  "language_info": {
   "name": "python"
  }
 },
 "nbformat": 4,
 "nbformat_minor": 2
}
