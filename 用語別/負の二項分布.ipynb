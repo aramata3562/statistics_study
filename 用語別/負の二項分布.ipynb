{
 "cells": [
  {
   "cell_type": "markdown",
   "metadata": {},
   "source": [
    "## 負の二項分布について\n",
    "\n",
    "### 負の二項分布とは\n",
    "\n",
    "負の二項分布（Negative Binomial Distribution）は、幾何分布の一般化で、独立したベルヌーイ試行において、成功が指定回数に達するまでの試行回数を表す確率分布です。具体的には、$r$回の成功を得るまでに必要な試行回数$X$をモデル化します。\n",
    "\n",
    "### 定義\n",
    "\n",
    "負の二項分布の確率質量関数（PMF）は次のように定義されます：\n",
    "\n",
    "$$\n",
    "P(X = k) = \\binom{k-1}{r-1} p^r (1 - p)^{k-r}\n",
    "$$\n",
    "\n",
    "ここで、\n",
    "- $p$：各試行における成功の確率\n",
    "- $r$：成功回数\n",
    "- $k$：試行回数（$k \\geq r$）\n",
    "\n",
    "### 期待値と分散\n",
    "\n",
    "負の二項分布の期待値（平均）と分散は以下の式で表されます：\n",
    "\n",
    "- 期待値：\n",
    "  $$\n",
    "  E(X) = \\frac{r}{p}\n",
    "  $$\n",
    "\n",
    "- 分散：\n",
    "  $$\n",
    "  \\text{Var}(X) = \\frac{r(1 - p)}{p^2}\n",
    "  $$\n",
    "\n",
    "### 例\n",
    "\n",
    "コインを投げて表が出るまでの回数を考えます。このとき、コインの表が出る確率は $p = 0.5$ です。表が3回出るまでの試行回数をモデル化します。\n",
    "\n",
    "#### パラメータ\n",
    "- 成功確率 $p = 0.5$\n",
    "- 成功回数 $r = 3$\n",
    "\n",
    "#### 期待値と分散の計算\n",
    "\n",
    "1. 期待値：\n",
    "   $$\n",
    "   E(X) = \\frac{r}{p} = \\frac{3}{0.5} = 6\n",
    "   $$\n",
    "   \n",
    "2. 分散：\n",
    "   $$\n",
    "   \\text{Var}(X) = \\frac{r(1 - p)}{p^2} = \\frac{3(1 - 0.5)}{0.5^2} = \\frac{3 \\cdot 0.5}{0.25} = 6\n",
    "   $$\n",
    "\n",
    "したがって、3回成功するまでの期待試行回数は6回で、分散も6です。\n",
    "\n",
    "### 負の二項分布と幾何分布の関係\n",
    "\n",
    "負の二項分布は幾何分布の一般化と見ることができます。幾何分布は「1回の成功」を得るまでの試行回数をモデル化し、負の二項分布は「$r$回の成功」を得るまでの試行回数をモデル化します。したがって、幾何分布は負の二項分布の特別な場合と考えることができます。\n",
    "\n",
    "- 幾何分布の場合：$r = 1$\n",
    "  - 期待値：$E(X) = \\frac{1}{p}$\n",
    "  - 分散：$\\text{Var}(X) = \\frac{1 - p}{p^2}$\n",
    "\n",
    "以上が負の二項分布の基本的な説明と具体例です。何か他にご質問があればお知らせください。"
   ]
  },
  {
   "cell_type": "code",
   "execution_count": 1,
   "metadata": {},
   "outputs": [
    {
     "name": "stdout",
     "output_type": "stream",
     "text": [
      "成功回数が3回に達するまでの試行回数が7回である確率: 0.1172\n",
      "期待値: 3.0\n",
      "分散: 6.0\n"
     ]
    }
   ],
   "source": [
    "from scipy.stats import nbinom\n",
    "\n",
    "# パラメータの定義\n",
    "r = 3   # 成功回数\n",
    "p = 0.5 # 成功確率\n",
    "\n",
    "# 試行回数が7回である確率を計算\n",
    "k = 7\n",
    "prob = nbinom.pmf(k - r, r, p)  # k-rに注意\n",
    "print(f\"成功回数が3回に達するまでの試行回数が7回である確率: {prob:.4f}\")\n",
    "\n",
    "# 負の二項分布の期待値と分散を計算\n",
    "mean = nbinom.mean(r, p)\n",
    "variance = nbinom.var(r, p)\n",
    "\n",
    "print(f\"期待値: {mean}\")\n",
    "print(f\"分散: {variance}\")"
   ]
  },
  {
   "cell_type": "code",
   "execution_count": null,
   "metadata": {},
   "outputs": [],
   "source": []
  }
 ],
 "metadata": {
  "kernelspec": {
   "display_name": ".venv",
   "language": "python",
   "name": "python3"
  },
  "language_info": {
   "codemirror_mode": {
    "name": "ipython",
    "version": 3
   },
   "file_extension": ".py",
   "mimetype": "text/x-python",
   "name": "python",
   "nbconvert_exporter": "python",
   "pygments_lexer": "ipython3",
   "version": "3.12.3"
  }
 },
 "nbformat": 4,
 "nbformat_minor": 2
}
