{
 "cells": [
  {
   "cell_type": "markdown",
   "metadata": {},
   "source": [
    "### 共分散の公式の導出\n",
    "https://manabitimes.jp/math/853"
   ]
  },
  {
   "cell_type": "markdown",
   "metadata": {},
   "source": [
    "「X の偏差 × Y の偏差」の平均\n",
    "\n",
    "これを期待値の記号を使って表すと\n",
    "\n",
    "$$\n",
    "Cov(X,Y) = E[(X-μ_X)(Y-μ_Y)]\n",
    "$$\n",
    "となる。\n",
    "\n",
    "まず期待値の中身を展開し、和の期待値は期待値の和なので\n",
    "$$\n",
    "Cov(X,Y) = E[XY] - E[Xμ_Y] - E[Yμ_X] + E[μ_Xμ_Y]\n",
    "$$\n",
    "\n",
    "定数倍は期待値の外側に出せるので、右辺第二項は\n",
    "$$\n",
    "- E[X]μ_Y = -µ_Xµ_Y\n",
    "$$\n",
    "同じく右辺第三項も \n",
    "$$\n",
    "- E[Y]μ_X = -µ_Xµ_Y\n",
    "$$\n",
    "以上から\n",
    "$$\n",
    "Cov(X,Y) = E[XY]-µ_Xµ_Y"
   ]
  },
  {
   "cell_type": "markdown",
   "metadata": {},
   "source": [
    "## 相関係数について\n",
    "\n",
    "相関係数（correlation coefficient）は、2つの変数間の線形関係の強さと方向を示す指標です。相関係数の値は$-1$から$1$の範囲を取り、以下のように解釈されます：\n",
    "\n",
    "- $1$：完全な正の相関。変数の一方が増加すると、他方も一定の割合で増加します。\n",
    "- $-1$：完全な負の相関。変数の一方が増加すると、他方は一定の割合で減少します。\n",
    "- $0$：相関がない。変数間に線形関係が存在しません。\n",
    "\n",
    "### ピアソンの相関係数（Pearson's correlation coefficient）\n",
    "\n",
    "ピアソンの相関係数は最も一般的な相関係数の一つで、以下の式で計算されます：\n",
    "\n",
    "$$\n",
    "ρ = \\frac{Cov(X,Y)}{σ_Xσ_Y}\n",
    "$$\n"
   ]
  },
  {
   "cell_type": "markdown",
   "metadata": {},
   "source": []
  }
 ],
 "metadata": {
  "language_info": {
   "name": "python"
  }
 },
 "nbformat": 4,
 "nbformat_minor": 2
}
