{
 "cells": [
  {
   "cell_type": "markdown",
   "metadata": {},
   "source": [
    "もちろん、中学生にもわかりやすくリサンプリング法について説明しますね。\n",
    "\n",
    "## リサンプリング法とは\n",
    "\n",
    "リサンプリング法は、元のデータから新しいサンプル（データの集まり）を何回も作って、その新しいサンプルを使って何かを調べる方法です。この方法を使うと、データの特性をよりよく理解することができます。代表的な方法には、ブートストラップ法とジャックナイフ法があります。\n",
    "\n",
    "### ブートストラップ法\n",
    "\n",
    "**ブートストラップ法**は、元のデータから新しいサンプルを作る方法です。この新しいサンプルは、元のデータから同じデータを何度も使って作ります。\n",
    "\n",
    "#### 例：\n",
    "\n",
    "1. **元のデータ**：\n",
    "   例えば、あるクラスの数学のテストの点数が [85, 90, 78, 92, 88] だったとします。\n",
    "\n",
    "2. **再標本の生成**：\n",
    "   元のデータから新しいサンプルを作ります。この新しいサンプルは、元のデータからランダムに点数を選び、元のデータの数と同じ数の点数を選びます。例えば、[90, 85, 85, 92, 78] のように作ります。\n",
    "\n",
    "3. **何度も繰り返す**：\n",
    "   この再標本の生成を何度も（例えば1000回）繰り返します。そうすると、たくさんの新しいサンプルができます。\n",
    "\n",
    "4. **統計量の計算**：\n",
    "   各新しいサンプルについて、平均や標準偏差などの統計量を計算します。そうすると、それらの統計量の分布がわかります。\n",
    "\n",
    "#### Pythonでの簡単な実装例：\n",
    "\n",
    "### ジャックナイフ法\n",
    "\n",
    "**ジャックナイフ法**は、元のデータから1つずつデータを抜いて新しいサンプルを作る方法です。\n",
    "\n",
    "#### 例：\n",
    "\n",
    "1. **元のデータ**：\n",
    "   例えば、あるクラスの数学のテストの点数が [85, 90, 78, 92, 88] だったとします。\n",
    "\n",
    "2. **データを1つずつ抜く**：\n",
    "   元のデータから1つの点数を抜いて新しいサンプルを作ります。例えば、[90, 78, 92, 88]、[85, 78, 92, 88] など。\n",
    "\n",
    "3. **何度も繰り返す**：\n",
    "   これを元のデータの数だけ繰り返します。そうすると、元のデータの数と同じだけ新しいサンプルができます。\n",
    "\n",
    "4. **統計量の計算**：\n",
    "   各新しいサンプルについて、平均や標準偏差などの統計量を計算します。そうすると、それらの統計量の分布がわかります。\n",
    "\n",
    "#### Pythonでの簡単な実装例：\n",
    "\n",
    "### まとめ\n",
    "\n",
    "- **リサンプリング法**は、元のデータを使って何度も新しいサンプルを作り、そのサンプルを使ってデータの特性を調べる方法です。\n",
    "- **ブートストラップ法**は、元のデータから何度も同じデータを使って新しいサンプルを作る方法です。\n",
    "- **ジャックナイフ法**は、元のデータから1つずつデータを抜いて新しいサンプルを作る方法です。\n",
    "\n",
    "この方法を使うと、元のデータからもっと多くの情報を得ることができ、データの特性をよりよく理解することができます。"
   ]
  },
  {
   "cell_type": "code",
   "execution_count": 3,
   "metadata": {},
   "outputs": [
    {
     "name": "stdout",
     "output_type": "stream",
     "text": [
      "ブートストラップでの平均の推定値: 86.6788\n",
      "普通の平均値: 86.6\n"
     ]
    }
   ],
   "source": [
    "# ブートストラップ法\n",
    "import numpy as np\n",
    "\n",
    "# 元のデータ\n",
    "data = np.array([85, 90, 78, 92, 88])\n",
    "\n",
    "# ブートストラップの設定\n",
    "B = 1000  # 新しいサンプルを1000回作る\n",
    "n = len(data)\n",
    "boot_means = []\n",
    "\n",
    "# ブートストラップサンプルの生成と平均の計算\n",
    "for _ in range(B):\n",
    "    boot_sample = np.random.choice(data, size=n, replace=True)\n",
    "    boot_mean = np.mean(boot_sample)\n",
    "    boot_means.append(boot_mean)\n",
    "\n",
    "# 結果の表示\n",
    "print(f\"ブートストラップでの平均の推定値: {np.mean(boot_means)}\")\n",
    "print(f\"普通の平均値: {np.mean(data)}\")\n"
   ]
  },
  {
   "cell_type": "code",
   "execution_count": 8,
   "metadata": {},
   "outputs": [
    {
     "name": "stdout",
     "output_type": "stream",
     "text": [
      "ジャックナイフでの平均の推定値: 86.6\n"
     ]
    }
   ],
   "source": [
    "# ジャックナイフ法\n",
    "import numpy as np\n",
    "\n",
    "# 元のデータ\n",
    "data = np.array([85, 90, 78, 92, 88])\n",
    "n = len(data)\n",
    "jackknife_means = []\n",
    "\n",
    "# ジャックナイフサンプルの生成と平均の計算\n",
    "for i in range(n):\n",
    "    jackknife_sample = np.delete(data, i)\n",
    "    jackknife_mean = np.mean(jackknife_sample)\n",
    "    jackknife_means.append(jackknife_mean)\n",
    "\n",
    "# 結果の表示\n",
    "print(f\"ジャックナイフでの平均の推定値: {np.mean(jackknife_means)}\")"
   ]
  },
  {
   "cell_type": "code",
   "execution_count": null,
   "metadata": {},
   "outputs": [],
   "source": []
  }
 ],
 "metadata": {
  "kernelspec": {
   "display_name": ".venv",
   "language": "python",
   "name": "python3"
  },
  "language_info": {
   "codemirror_mode": {
    "name": "ipython",
    "version": 3
   },
   "file_extension": ".py",
   "mimetype": "text/x-python",
   "name": "python",
   "nbconvert_exporter": "python",
   "pygments_lexer": "ipython3",
   "version": "3.12.3"
  }
 },
 "nbformat": 4,
 "nbformat_minor": 2
}
