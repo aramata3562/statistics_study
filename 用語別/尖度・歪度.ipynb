{
 "cells": [
  {
   "cell_type": "markdown",
   "metadata": {},
   "source": [
    "## 歪度\n",
    "\n",
    "歪度は「平均値まわりの3次のモーメント」を$\\sigma^3$で割ったものです。確率変数$X$の平均値を$\\mu$、分散を$\\sigma^2$とすると、歪度は次の式から求めることができます。\n",
    "\n",
    "$$\n",
    "\\text{skewness} = \\frac{E[(X - \\mu)^3]}{\\sigma^3}\n",
    "$$\n",
    "\n",
    "分布が左右対称の場合、$E[(X - \\mu)^3] = 0$となります。したがって、歪度＝0となります。\n",
    "\n",
    "「右裾が長い」分布の場合、平均より大きく正に離れた値があるため$E[(X - \\mu)^3] > 0$となります。したがって、歪度は正の値を取ります。\n",
    "\n",
    "「左裾が長い」分布の場合、平均より大きく負に離れた値があるため$E[(X - \\mu)^3] < 0$となります。したがって、歪度は負の値を取ります。\n",
    "\n",
    "分布が左右対称の場合に歪度=0となることを、正規分布を使って確認してみます。正規分布 $N(\\mu, \\sigma^2)$ のモーメント母関数は次のようになります。\n",
    "\n",
    "$$\n",
    "M_X(t) = e^{\\mu t + \\frac{\\sigma^2 t^2}{2}}\n",
    "$$\n",
    "\n",
    "ここでは計算を簡単にするため、$\\mu = 0$の正規分布 $N(0, \\sigma^2)$ を考えます。上の式から、$\\mu = 0$の正規分布 $N(0, \\sigma^2)$ のモーメント母関数は\n",
    "\n",
    "$$\n",
    "M_X(t) = e^{\\frac{\\sigma^2 t^2}{2}}\n",
    "$$\n",
    "\n",
    "となります。この式をtで1回微分すると\n",
    "\n",
    "$$\n",
    "M'_X(t) = \\sigma^2 t e^{\\frac{\\sigma^2 t^2}{2}}\n",
    "$$\n",
    "\n",
    "となります。tで2回微分すると\n",
    "\n",
    "$$\n",
    "M''_X(t) = \\sigma^2 \\left( e^{\\frac{\\sigma^2 t^2}{2}} + \\sigma^2 t^2 e^{\\frac{\\sigma^2 t^2}{2}} \\right)\n",
    "$$\n",
    "\n",
    "となります。tで3回微分すると\n",
    "\n",
    "$$\n",
    "M'''_X(t) = \\sigma^4 \\left( 3t e^{\\frac{\\sigma^2 t^2}{2}} + \\sigma^2 t^3 e^{\\frac{\\sigma^2 t^2}{2}} \\right)\n",
    "$$\n",
    "\n",
    "となります。この式に$t = 0$を代入すると、次の式が導出されます。\n",
    "\n",
    "$$\n",
    "M'''_X(0) = E[X^3] = 0\n",
    "$$\n",
    "\n",
    "したがって、$\\mu = 0$の正規分布 $N(0, \\sigma^2)$ の歪度は0になります。\n",
    "\n",
    "$$\n",
    "\\text{skewness} = \\frac{E[(X - \\mu)^3]}{\\sigma^3} = \\frac{E[(X - 0)^3]}{\\sigma^3} = \\frac{E[X^3]}{\\sigma^3} = \\frac{0}{\\sigma^3} = 0\n",
    "$$"
   ]
  },
  {
   "cell_type": "markdown",
   "metadata": {},
   "source": [
    "## 尖度\n",
    "\n",
    "尖度は「平均値まわりの4次のモーメント」を$\\sigma^4$で割ったものです。確率変数$X$の平均値を$\\mu$、分散を$\\sigma^2$とすると、尖度は次の式から求めることができます。\n",
    "\n",
    "$$\n",
    "\\text{kurtosis} = \\frac{E[(X - \\mu)^4]}{\\sigma^4}\n",
    "$$\n",
    "\n",
    "尖度は必ず0以上になります。正規分布の場合（最小値）は尖度＝3となり、3より大きいかどうかで分布の裾の重さを評価します。そのため、次の式を使って、正規分布の尖度＝0を基準とする場合の尖度を計算する場合があります。\n",
    "\n",
    "$$\n",
    "\\text{kurtosis} = \\frac{E[(X - \\mu)^4]}{\\sigma^4} - 3\n",
    "$$\n",
    "\n",
    "「裾が重い」分布の場合、平均$\\mu$より大きく離れた値が多いことから、$\\sigma$はより大きな値を取ります。したがって、正規分布の尖度＝3を基準とする場合は尖度はより小さな値を取り、正規分布の尖度＝0を基準とする場合は尖度は負の値を取ります。\n",
    "\n",
    "「裾が軽い」分布の場合、平均$\\mu$より大きく離れた値が少ないことから、$\\sigma$はより小さな値を取ります。したがって、正規分布の尖度＝3を基準とする場合は尖度はより大きな値を取り、正規分布の尖度＝0を基準とする場合は尖度は正の値を取ります。\n",
    "\n",
    "\n",
    "正規分布の場合に尖度＝3となることを確認してみます。尖度の計算で用いた、$\\mu = 0$の正規分布 $N(0, \\sigma^2)$ のモーメント母関数をtで4回微分をすると\n",
    "\n",
    "$$\n",
    "M^{(4)}_X(t) = \\sigma^4 \\left( 3e^{\\frac{\\sigma^2 t^2}{2}} + 6\\sigma^2 t^2 e^{\\frac{\\sigma^2 t^2}{2}} + \\sigma^4 t^4 e^{\\frac{\\sigma^2 t^2}{2}} \\right)\n",
    "$$\n",
    "\n",
    "となります。この式に$t = 0$を代入すると、次の式が導出されます。\n",
    "\n",
    "$$\n",
    "M^{(4)}_X(0) = E[X^4] = 3\\sigma^4\n",
    "$$\n",
    "\n",
    "となります。したがって、$\\mu = 0$の正規分布 $N(0, \\sigma^2)$ の尖度は3になります。\n",
    "\n",
    "$$\n",
    "\\text{kurtosis} = \\frac{E[(X - \\mu)^4]}{\\sigma^4} = \\frac{E[(X - 0)^4]}{\\sigma^4} = \\frac{E[X^4]}{\\sigma^4} = \\frac{3\\sigma^4}{\\sigma^4} = 3\n",
    "$$\n",
    "https://bellcurve.jp/statistics/course/26306.html\n"
   ]
  },
  {
   "cell_type": "markdown",
   "metadata": {},
   "source": []
  },
  {
   "cell_type": "code",
   "execution_count": 1,
   "metadata": {},
   "outputs": [
    {
     "name": "stdout",
     "output_type": "stream",
     "text": [
      "尖度: -0.35356761053699204\n",
      "歪度: 0.47742664728784023\n"
     ]
    }
   ],
   "source": [
    "import numpy as np\n",
    "from scipy.stats import kurtosis, skew\n",
    "\n",
    "# サンプルデータ\n",
    "data = [2, 3, 3, 4, 4, 4, 5, 5, 5, 5, 6, 6, 7, 8, 9]\n",
    "\n",
    "# 尖度の計算\n",
    "kurt = kurtosis(data)\n",
    "print(f\"尖度: {kurt}\")\n",
    "\n",
    "# 歪度の計算\n",
    "skewness = skew(data)\n",
    "print(f\"歪度: {skewness}\")"
   ]
  }
 ],
 "metadata": {
  "kernelspec": {
   "display_name": ".venv",
   "language": "python",
   "name": "python3"
  },
  "language_info": {
   "codemirror_mode": {
    "name": "ipython",
    "version": 3
   },
   "file_extension": ".py",
   "mimetype": "text/x-python",
   "name": "python",
   "nbconvert_exporter": "python",
   "pygments_lexer": "ipython3",
   "version": "3.12.3"
  }
 },
 "nbformat": 4,
 "nbformat_minor": 2
}
