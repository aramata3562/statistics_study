{
 "cells": [
  {
   "cell_type": "markdown",
   "metadata": {},
   "source": [
    "## 尖度・歪度について\n",
    "\n",
    "統計学において、尖度（kurtosis）と歪度（skewness）はデータの分布の形状を特徴づける重要な指標です。以下に、それぞれの定義と計算方法を示します。\n",
    "\n",
    "### 尖度（Kurtosis）\n",
    "尖度はデータの分布の「尖り具合」や「重尾性」を測定する指標です。正規分布と比較して分布の尖り具合を示します。具体的には、分布のピークの高さや両側の尾の厚さを表します。\n",
    "\n",
    "尖度の計算式は以下の通りです：\n",
    "\n",
    "$$\n",
    "\\text{Kurtosis} = \\frac{n(n+1)}{(n-1)(n-2)(n-3)} \\sum_{i=1}^{n} \\left( \\frac{x_i - \\bar{x}}{s} \\right)^4 - \\frac{3(n-1)^2}{(n-2)(n-3)}\n",
    "$$\n",
    "\n",
    "ここで：\n",
    "- $n$ はデータの総数\n",
    "- $x_i$ はデータの各値\n",
    "- $\\bar{x}$ はデータの平均\n",
    "- $s$ はデータの標準偏差\n",
    "\n",
    "正規分布の場合、尖度は0になります。尖度が正の値を持つ場合、分布は正規分布よりも尖った形状を持ち、負の値の場合は平らな形状を持ちます。\n",
    "\n",
    "### 歪度（Skewness）\n",
    "歪度はデータの分布の非対称性を測定する指標です。データが平均値の周りでどれだけ対称でないかを示します。\n",
    "\n",
    "歪度の計算式は以下の通りです：\n",
    "\n",
    "$$\n",
    "\\text{Skewness} = \\frac{n}{(n-1)(n-2)} \\sum_{i=1}^{n} \\left( \\frac{x_i - \\bar{x}}{s} \\right)^3\n",
    "$$\n",
    "\n",
    "ここで：\n",
    "- $n$ はデータの総数\n",
    "- $x_i$ はデータの各値\n",
    "- $\\bar{x}$ はデータの平均\n",
    "- $s$ はデータの標準偏差\n",
    "\n",
    "歪度が0の場合、分布は完全に対称です。歪度が正の場合、分布は右に長い尾を持ち、負の場合は左に長い尾を持ちます。\n",
    "\n",
    "### 具体例\n",
    "\n",
    "Pythonを使用して、尖度と歪度を計算する方法を示します。\n",
    "\n"
   ]
  },
  {
   "cell_type": "code",
   "execution_count": 1,
   "metadata": {},
   "outputs": [
    {
     "name": "stdout",
     "output_type": "stream",
     "text": [
      "尖度: -0.35356761053699204\n",
      "歪度: 0.47742664728784023\n"
     ]
    }
   ],
   "source": [
    "import numpy as np\n",
    "from scipy.stats import kurtosis, skew\n",
    "\n",
    "# サンプルデータ\n",
    "data = [2, 3, 3, 4, 4, 4, 5, 5, 5, 5, 6, 6, 7, 8, 9]\n",
    "\n",
    "# 尖度の計算\n",
    "kurt = kurtosis(data)\n",
    "print(f\"尖度: {kurt}\")\n",
    "\n",
    "# 歪度の計算\n",
    "skewness = skew(data)\n",
    "print(f\"歪度: {skewness}\")"
   ]
  },
  {
   "cell_type": "markdown",
   "metadata": {},
   "source": [
    "https://bellcurve.jp/statistics/course/26306.html"
   ]
  }
 ],
 "metadata": {
  "kernelspec": {
   "display_name": ".venv",
   "language": "python",
   "name": "python3"
  },
  "language_info": {
   "codemirror_mode": {
    "name": "ipython",
    "version": 3
   },
   "file_extension": ".py",
   "mimetype": "text/x-python",
   "name": "python",
   "nbconvert_exporter": "python",
   "pygments_lexer": "ipython3",
   "version": "3.12.3"
  }
 },
 "nbformat": 4,
 "nbformat_minor": 2
}
